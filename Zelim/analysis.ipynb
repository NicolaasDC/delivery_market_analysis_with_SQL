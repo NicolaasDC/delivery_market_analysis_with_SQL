{
 "cells": [
  {
   "cell_type": "code",
   "execution_count": 2,
   "metadata": {},
   "outputs": [],
   "source": [
    "import sqlite3\n",
    "import pandas as pd\n",
    "import geopandas as gpd\n",
    "from shapely.geometry import Point\n",
    "from shapely.ops import unary_union\n",
    "from shapely.geometry.polygon import Polygon\n",
    "import folium"
   ]
  },
  {
   "cell_type": "markdown",
   "metadata": {},
   "source": [
    "# Market Analysis"
   ]
  },
  {
   "cell_type": "code",
   "execution_count": 6,
   "metadata": {},
   "outputs": [],
   "source": [
    "takeaway_db = '../Databases/takeaway.db'\n",
    "deliveroo_db ='../Databases/deliveroo.db'\n",
    "ubereats_db ='../Databases/ubereats.db'\n",
    "\n",
    "def query_db(query, db):\n",
    "    conn = sqlite3.connect(db)\n",
    "    with conn:\n",
    "        res = pd.read_sql_query(query, conn)\n",
    "    if conn:\n",
    "        conn.close()\n",
    "    return res"
   ]
  },
  {
   "cell_type": "markdown",
   "metadata": {},
   "source": [
    "## Map locations offering kapsalons and their average price."
   ]
  },
  {
   "cell_type": "markdown",
   "metadata": {},
   "source": [
    "### Deliveroo"
   ]
  },
  {
   "cell_type": "code",
   "execution_count": 18,
   "metadata": {},
   "outputs": [],
   "source": [
    "query = \"\"\"\n",
    "    SELECT restaurants.name as name, ROUND(AVG(menu_items.price), 2) as avg_price, restaurants.address as address,\n",
    "    restaurants.latitude as latitude, restaurants.longitude as longitude\n",
    "    FROM menu_items\n",
    "    JOIN restaurants ON restaurants.id = menu_items.restaurant_id\n",
    "    WHERE menu_items.name LIKE \"%kapsalon%\"\n",
    "    GROUP BY restaurants.name;\n",
    "\"\"\"\n",
    "\n",
    "data_deliveroo = query_db(query, deliveroo_db)"
   ]
  },
  {
   "cell_type": "code",
   "execution_count": 19,
   "metadata": {},
   "outputs": [],
   "source": [
    "geo_data_deliveroo = gpd.GeoDataFrame(data_deliveroo, geometry=gpd.points_from_xy(data_deliveroo.longitude, data_deliveroo.latitude), crs=\"EPSG:4326\")"
   ]
  },
  {
   "cell_type": "code",
   "execution_count": 11,
   "metadata": {},
   "outputs": [],
   "source": [
    "m = folium.Map(location=[50.851409, 4.350694], zoom_start=8) \n",
    "\n",
    "for _, row in geo_data_deliveroo.iterrows():\n",
    "    folium.Marker(\n",
    "        location=[row['latitude'], row['longitude']],\n",
    "        popup=f\"Name: {row['name']}<br>Price (avg): €{row['avg_price']}<br>Address: {row['address']}\",\n",
    "    ).add_to(m)\n",
    "\n",
    "m.save(\"../maps/deliveroo_kapsalons_map.html\")"
   ]
  },
  {
   "cell_type": "markdown",
   "metadata": {},
   "source": [
    "### TakeAway"
   ]
  },
  {
   "cell_type": "code",
   "execution_count": 12,
   "metadata": {},
   "outputs": [],
   "source": [
    "query = \"\"\"\n",
    "    SELECT restaurants.primarySlug as name, ROUND(AVG(menuItems.price), 2) as avg_price, restaurants.address,\n",
    "    restaurants.latitude as latitude, restaurants.longitude as longitude\n",
    "    FROM menuItems\n",
    "    JOIN restaurants ON restaurants.primarySlug = menuItems.primarySlug\n",
    "    WHERE menuItems.name LIKE \"%kapsalon%\"\n",
    "    GROUP BY restaurants.primarySlug;\n",
    "\"\"\"\n",
    "\n",
    "data_takeaway = query_db(query, takeaway_db)"
   ]
  },
  {
   "cell_type": "code",
   "execution_count": 13,
   "metadata": {},
   "outputs": [],
   "source": [
    "geo_data_takeaway = gpd.GeoDataFrame(data_takeaway, geometry=gpd.points_from_xy(data_takeaway.longitude, data_takeaway.latitude), crs=\"EPSG:4326\")"
   ]
  },
  {
   "cell_type": "code",
   "execution_count": 14,
   "metadata": {},
   "outputs": [],
   "source": [
    "m = folium.Map(location=[50.851409, 4.350694], zoom_start=8) \n",
    "\n",
    "for _, row in geo_data_takeaway.iterrows():\n",
    "    folium.Marker(\n",
    "        location=[row['latitude'], row['longitude']],\n",
    "        popup=f\"Name: {row['name']}<br>Price (avg): €{row['avg_price']}<br>Address: {row['address']}\",\n",
    "    ).add_to(m)\n",
    "\n",
    "m.save(\"../maps/takeaway_kapsalons_map.html\")"
   ]
  },
  {
   "cell_type": "markdown",
   "metadata": {},
   "source": [
    "### UberEats"
   ]
  },
  {
   "cell_type": "code",
   "execution_count": 15,
   "metadata": {},
   "outputs": [],
   "source": [
    "query = \"\"\"\n",
    "    SELECT restaurants.sanitized_title as name, ROUND(AVG(menu_items.price / 100), 2) as avg_price, restaurants.location__address as address,\n",
    "    restaurants.location__latitude as latitude, restaurants.location__longitude as longitude\n",
    "    FROM menu_items\n",
    "    JOIN restaurants ON restaurants.id = menu_items.restaurant_id\n",
    "    WHERE menu_items.name LIKE \"%kapsalon%\"\n",
    "    GROUP BY restaurants.sanitized_title;\n",
    "\"\"\"\n",
    "\n",
    "data_ubereats = query_db(query, ubereats_db)"
   ]
  },
  {
   "cell_type": "code",
   "execution_count": 16,
   "metadata": {},
   "outputs": [],
   "source": [
    "geo_data_ubereats = gpd.GeoDataFrame(data_ubereats, geometry=gpd.points_from_xy(data_ubereats.longitude, data_ubereats.latitude), crs=\"EPSG:4326\")"
   ]
  },
  {
   "cell_type": "code",
   "execution_count": 17,
   "metadata": {},
   "outputs": [],
   "source": [
    "m = folium.Map(location=[50.851409, 4.350694], zoom_start=8) \n",
    "\n",
    "for _, row in geo_data_ubereats.iterrows():\n",
    "    folium.Marker(\n",
    "        location=[row['latitude'], row['longitude']],\n",
    "        popup=f\"Name: {row['name']}<br>Price (avg): €{row['avg_price']}<br>Address: {row['address']}\",\n",
    "    ).add_to(m)\n",
    "\n",
    "m.save(\"../maps/ubereats_kapsalons_map.html\")"
   ]
  },
  {
   "cell_type": "markdown",
   "metadata": {},
   "source": [
    "## Where are the delivery ‘dead zones’—areas with minimal restaurant coverage?"
   ]
  },
  {
   "cell_type": "code",
   "execution_count": 98,
   "metadata": {},
   "outputs": [],
   "source": [
    "def restos_to_density_map(df, filename):\n",
    "    try:\n",
    "        geometry = [Point(xy) for xy in zip(df['longitude'], df['latitude'])]\n",
    "        gdf = gpd.GeoDataFrame(df, geometry=geometry, crs=\"EPSG:4326\")\n",
    "\n",
    "        min_lat, max_lat = 50.704501, 51.508238\n",
    "        min_lon, max_lon = 2.541120, 5.853457\n",
    "\n",
    "        boundary_coords = [(min_lon, max_lat), (max_lon, max_lat), (max_lon, min_lat), (min_lon, min_lat)]\n",
    "        boundary = Polygon(boundary_coords)\n",
    "\n",
    "        coverage_radius = 0.15\n",
    "        gdf['buffer'] = gdf.geometry.buffer(coverage_radius)\n",
    "\n",
    "        covered_area = unary_union(gdf['buffer'])\n",
    "        dead_zones = boundary.difference(covered_area)\n",
    "        \n",
    "        pop_data = gpd.read_file(\"TF_POPULATION_GRID_3035_20200101.geojson\")\n",
    "        pop_data = pop_data.to_crs(\"EPSG:4326\")\n",
    "\n",
    "        m = folium.Map(location=[50.851409, 4.350694], zoom_start=8)\n",
    "\n",
    "        for idx, row in df.iterrows():\n",
    "            folium.CircleMarker(\n",
    "                location=[row['latitude'], row['longitude']],\n",
    "                radius=1,\n",
    "                color='black',\n",
    "                fill=True,\n",
    "                fill_color='black',\n",
    "                fill_opacity=1,\n",
    "            ).add_to(m)\n",
    "\n",
    "        folium.GeoJson(\n",
    "            dead_zones,\n",
    "            style_function=lambda x: {'color': '#595959', 'fillOpacity': 0.3}\n",
    "        ).add_to(m)\n",
    "\n",
    "        folium.GeoJson(\n",
    "            pop_data,\n",
    "            style_function=lambda feature: {\n",
    "                'fillColor': '#ff6600' if feature['properties']['ms_population_20200101'] > 1000 else '#ffff00',\n",
    "                'color': '#000000',\n",
    "                'weight': 0.5,\n",
    "                'fillOpacity': 0.3,\n",
    "            },\n",
    "            tooltip=folium.GeoJsonTooltip(\n",
    "                fields=['ms_population_20200101'],\n",
    "                aliases=['Population'],\n",
    "                localize=True\n",
    "            )\n",
    "        ).add_to(m)\n",
    "\n",
    "        m.save(f\"./maps/{filename}.html\")        \n",
    "    except:\n",
    "        return Exception"
   ]
  },
  {
   "cell_type": "markdown",
   "metadata": {},
   "source": [
    "### Deliveroo"
   ]
  },
  {
   "cell_type": "code",
   "execution_count": 96,
   "metadata": {},
   "outputs": [
    {
     "data": {
      "text/html": [
       "<div>\n",
       "<style scoped>\n",
       "    .dataframe tbody tr th:only-of-type {\n",
       "        vertical-align: middle;\n",
       "    }\n",
       "\n",
       "    .dataframe tbody tr th {\n",
       "        vertical-align: top;\n",
       "    }\n",
       "\n",
       "    .dataframe thead th {\n",
       "        text-align: right;\n",
       "    }\n",
       "</style>\n",
       "<table border=\"1\" class=\"dataframe\">\n",
       "  <thead>\n",
       "    <tr style=\"text-align: right;\">\n",
       "      <th></th>\n",
       "      <th>latitude</th>\n",
       "      <th>longitude</th>\n",
       "    </tr>\n",
       "  </thead>\n",
       "  <tbody>\n",
       "    <tr>\n",
       "      <th>0</th>\n",
       "      <td>50.855476</td>\n",
       "      <td>4.399550</td>\n",
       "    </tr>\n",
       "    <tr>\n",
       "      <th>1</th>\n",
       "      <td>50.794531</td>\n",
       "      <td>4.334645</td>\n",
       "    </tr>\n",
       "    <tr>\n",
       "      <th>2</th>\n",
       "      <td>50.792346</td>\n",
       "      <td>4.352460</td>\n",
       "    </tr>\n",
       "    <tr>\n",
       "      <th>3</th>\n",
       "      <td>50.792341</td>\n",
       "      <td>4.351862</td>\n",
       "    </tr>\n",
       "    <tr>\n",
       "      <th>4</th>\n",
       "      <td>50.848879</td>\n",
       "      <td>4.433540</td>\n",
       "    </tr>\n",
       "    <tr>\n",
       "      <th>...</th>\n",
       "      <td>...</td>\n",
       "      <td>...</td>\n",
       "    </tr>\n",
       "    <tr>\n",
       "      <th>2711</th>\n",
       "      <td>51.205810</td>\n",
       "      <td>4.470221</td>\n",
       "    </tr>\n",
       "    <tr>\n",
       "      <th>2712</th>\n",
       "      <td>50.879296</td>\n",
       "      <td>4.706208</td>\n",
       "    </tr>\n",
       "    <tr>\n",
       "      <th>2713</th>\n",
       "      <td>51.169475</td>\n",
       "      <td>4.137958</td>\n",
       "    </tr>\n",
       "    <tr>\n",
       "      <th>2714</th>\n",
       "      <td>51.219129</td>\n",
       "      <td>4.419331</td>\n",
       "    </tr>\n",
       "    <tr>\n",
       "      <th>2715</th>\n",
       "      <td>51.218113</td>\n",
       "      <td>4.416205</td>\n",
       "    </tr>\n",
       "  </tbody>\n",
       "</table>\n",
       "<p>2716 rows × 2 columns</p>\n",
       "</div>"
      ],
      "text/plain": [
       "       latitude  longitude\n",
       "0     50.855476   4.399550\n",
       "1     50.794531   4.334645\n",
       "2     50.792346   4.352460\n",
       "3     50.792341   4.351862\n",
       "4     50.848879   4.433540\n",
       "...         ...        ...\n",
       "2711  51.205810   4.470221\n",
       "2712  50.879296   4.706208\n",
       "2713  51.169475   4.137958\n",
       "2714  51.219129   4.419331\n",
       "2715  51.218113   4.416205\n",
       "\n",
       "[2716 rows x 2 columns]"
      ]
     },
     "execution_count": 96,
     "metadata": {},
     "output_type": "execute_result"
    }
   ],
   "source": [
    "query = \"\"\"\n",
    "    SELECT latitude, longitude\n",
    "    FROM restaurants;\n",
    "\"\"\"\n",
    "\n",
    "data_deliveroo = query_db(query, deliveroo_db)\n",
    "data_deliveroo.astype(float)"
   ]
  },
  {
   "cell_type": "code",
   "execution_count": 99,
   "metadata": {},
   "outputs": [
    {
     "name": "stderr",
     "output_type": "stream",
     "text": [
      "C:\\Users\\zelim\\AppData\\Local\\Temp\\ipykernel_63468\\40523098.py:13: UserWarning: Geometry is in a geographic CRS. Results from 'buffer' are likely incorrect. Use 'GeoSeries.to_crs()' to re-project geometries to a projected CRS before this operation.\n",
      "\n",
      "  gdf['buffer'] = gdf.geometry.buffer(coverage_radius)\n"
     ]
    }
   ],
   "source": [
    "restos_to_density_map(data_deliveroo, \"combined_deliveroo_restos_population_density_map\")"
   ]
  },
  {
   "cell_type": "markdown",
   "metadata": {},
   "source": [
    "### Takeaway"
   ]
  },
  {
   "cell_type": "code",
   "execution_count": 89,
   "metadata": {},
   "outputs": [
    {
     "data": {
      "text/html": [
       "<div>\n",
       "<style scoped>\n",
       "    .dataframe tbody tr th:only-of-type {\n",
       "        vertical-align: middle;\n",
       "    }\n",
       "\n",
       "    .dataframe tbody tr th {\n",
       "        vertical-align: top;\n",
       "    }\n",
       "\n",
       "    .dataframe thead th {\n",
       "        text-align: right;\n",
       "    }\n",
       "</style>\n",
       "<table border=\"1\" class=\"dataframe\">\n",
       "  <thead>\n",
       "    <tr style=\"text-align: right;\">\n",
       "      <th></th>\n",
       "      <th>latitude</th>\n",
       "      <th>longitude</th>\n",
       "    </tr>\n",
       "  </thead>\n",
       "  <tbody>\n",
       "    <tr>\n",
       "      <th>0</th>\n",
       "      <td>50.743630</td>\n",
       "      <td>3.216888</td>\n",
       "    </tr>\n",
       "    <tr>\n",
       "      <th>1</th>\n",
       "      <td>50.540992</td>\n",
       "      <td>5.460752</td>\n",
       "    </tr>\n",
       "    <tr>\n",
       "      <th>2</th>\n",
       "      <td>50.675491</td>\n",
       "      <td>5.480206</td>\n",
       "    </tr>\n",
       "    <tr>\n",
       "      <th>3</th>\n",
       "      <td>50.684180</td>\n",
       "      <td>5.549703</td>\n",
       "    </tr>\n",
       "    <tr>\n",
       "      <th>4</th>\n",
       "      <td>50.663340</td>\n",
       "      <td>5.512421</td>\n",
       "    </tr>\n",
       "    <tr>\n",
       "      <th>...</th>\n",
       "      <td>...</td>\n",
       "      <td>...</td>\n",
       "    </tr>\n",
       "    <tr>\n",
       "      <th>4048</th>\n",
       "      <td>50.805719</td>\n",
       "      <td>3.872587</td>\n",
       "    </tr>\n",
       "    <tr>\n",
       "      <th>4049</th>\n",
       "      <td>50.870853</td>\n",
       "      <td>4.018145</td>\n",
       "    </tr>\n",
       "    <tr>\n",
       "      <th>4050</th>\n",
       "      <td>50.836477</td>\n",
       "      <td>4.026344</td>\n",
       "    </tr>\n",
       "    <tr>\n",
       "      <th>4051</th>\n",
       "      <td>50.762280</td>\n",
       "      <td>3.862852</td>\n",
       "    </tr>\n",
       "    <tr>\n",
       "      <th>4052</th>\n",
       "      <td>50.704662</td>\n",
       "      <td>4.066897</td>\n",
       "    </tr>\n",
       "  </tbody>\n",
       "</table>\n",
       "<p>4053 rows × 2 columns</p>\n",
       "</div>"
      ],
      "text/plain": [
       "       latitude  longitude\n",
       "0     50.743630   3.216888\n",
       "1     50.540992   5.460752\n",
       "2     50.675491   5.480206\n",
       "3     50.684180   5.549703\n",
       "4     50.663340   5.512421\n",
       "...         ...        ...\n",
       "4048  50.805719   3.872587\n",
       "4049  50.870853   4.018145\n",
       "4050  50.836477   4.026344\n",
       "4051  50.762280   3.862852\n",
       "4052  50.704662   4.066897\n",
       "\n",
       "[4053 rows x 2 columns]"
      ]
     },
     "execution_count": 89,
     "metadata": {},
     "output_type": "execute_result"
    }
   ],
   "source": [
    "query = \"\"\"\n",
    "    SELECT latitude, longitude\n",
    "    FROM restaurants\n",
    "    WHERE latitude > 0;\n",
    "\"\"\"\n",
    "\n",
    "data_takeaway = query_db(query, takeaway_db)\n",
    "data_takeaway.astype(float)"
   ]
  },
  {
   "cell_type": "code",
   "execution_count": 91,
   "metadata": {},
   "outputs": [
    {
     "name": "stderr",
     "output_type": "stream",
     "text": [
      "C:\\Users\\zelim\\AppData\\Local\\Temp\\ipykernel_63468\\4128076787.py:13: UserWarning: Geometry is in a geographic CRS. Results from 'buffer' are likely incorrect. Use 'GeoSeries.to_crs()' to re-project geometries to a projected CRS before this operation.\n",
      "\n",
      "  gdf['buffer'] = gdf.geometry.buffer(coverage_radius)\n"
     ]
    }
   ],
   "source": [
    "restos_to_density_map(data_takeaway, \"combined_takeaway_restos_population_density_map\")"
   ]
  },
  {
   "cell_type": "markdown",
   "metadata": {},
   "source": [
    "### UberEats"
   ]
  },
  {
   "cell_type": "code",
   "execution_count": 104,
   "metadata": {},
   "outputs": [
    {
     "data": {
      "text/html": [
       "<div>\n",
       "<style scoped>\n",
       "    .dataframe tbody tr th:only-of-type {\n",
       "        vertical-align: middle;\n",
       "    }\n",
       "\n",
       "    .dataframe tbody tr th {\n",
       "        vertical-align: top;\n",
       "    }\n",
       "\n",
       "    .dataframe thead th {\n",
       "        text-align: right;\n",
       "    }\n",
       "</style>\n",
       "<table border=\"1\" class=\"dataframe\">\n",
       "  <thead>\n",
       "    <tr style=\"text-align: right;\">\n",
       "      <th></th>\n",
       "      <th>latitude</th>\n",
       "      <th>longitude</th>\n",
       "    </tr>\n",
       "  </thead>\n",
       "  <tbody>\n",
       "    <tr>\n",
       "      <th>0</th>\n",
       "      <td>51.056860</td>\n",
       "      <td>3.737415</td>\n",
       "    </tr>\n",
       "    <tr>\n",
       "      <th>1</th>\n",
       "      <td>51.188560</td>\n",
       "      <td>4.425970</td>\n",
       "    </tr>\n",
       "    <tr>\n",
       "      <th>2</th>\n",
       "      <td>50.928600</td>\n",
       "      <td>4.422260</td>\n",
       "    </tr>\n",
       "    <tr>\n",
       "      <th>3</th>\n",
       "      <td>51.197890</td>\n",
       "      <td>4.425630</td>\n",
       "    </tr>\n",
       "    <tr>\n",
       "      <th>4</th>\n",
       "      <td>51.240870</td>\n",
       "      <td>4.439240</td>\n",
       "    </tr>\n",
       "    <tr>\n",
       "      <th>...</th>\n",
       "      <td>...</td>\n",
       "      <td>...</td>\n",
       "    </tr>\n",
       "    <tr>\n",
       "      <th>2724</th>\n",
       "      <td>50.878698</td>\n",
       "      <td>4.700045</td>\n",
       "    </tr>\n",
       "    <tr>\n",
       "      <th>2725</th>\n",
       "      <td>50.839031</td>\n",
       "      <td>4.285931</td>\n",
       "    </tr>\n",
       "    <tr>\n",
       "      <th>2726</th>\n",
       "      <td>50.717330</td>\n",
       "      <td>4.396220</td>\n",
       "    </tr>\n",
       "    <tr>\n",
       "      <th>2727</th>\n",
       "      <td>51.205427</td>\n",
       "      <td>4.472862</td>\n",
       "    </tr>\n",
       "    <tr>\n",
       "      <th>2728</th>\n",
       "      <td>51.223801</td>\n",
       "      <td>4.423938</td>\n",
       "    </tr>\n",
       "  </tbody>\n",
       "</table>\n",
       "<p>2729 rows × 2 columns</p>\n",
       "</div>"
      ],
      "text/plain": [
       "       latitude  longitude\n",
       "0     51.056860   3.737415\n",
       "1     51.188560   4.425970\n",
       "2     50.928600   4.422260\n",
       "3     51.197890   4.425630\n",
       "4     51.240870   4.439240\n",
       "...         ...        ...\n",
       "2724  50.878698   4.700045\n",
       "2725  50.839031   4.285931\n",
       "2726  50.717330   4.396220\n",
       "2727  51.205427   4.472862\n",
       "2728  51.223801   4.423938\n",
       "\n",
       "[2729 rows x 2 columns]"
      ]
     },
     "execution_count": 104,
     "metadata": {},
     "output_type": "execute_result"
    }
   ],
   "source": [
    "query = \"\"\"\n",
    "    SELECT location__latitude as latitude, location__longitude as longitude\n",
    "    FROM restaurants;\n",
    "\"\"\"\n",
    "\n",
    "data_ubereats = query_db(query, ubereats_db)\n",
    "data_ubereats.astype(float)"
   ]
  },
  {
   "cell_type": "code",
   "execution_count": 107,
   "metadata": {},
   "outputs": [
    {
     "name": "stderr",
     "output_type": "stream",
     "text": [
      "C:\\Users\\zelim\\AppData\\Local\\Temp\\ipykernel_63468\\40523098.py:13: UserWarning: Geometry is in a geographic CRS. Results from 'buffer' are likely incorrect. Use 'GeoSeries.to_crs()' to re-project geometries to a projected CRS before this operation.\n",
      "\n",
      "  gdf['buffer'] = gdf.geometry.buffer(coverage_radius)\n"
     ]
    }
   ],
   "source": [
    "restos_to_density_map(data_ubereats, \"combined_ubereats_restos_population_density_map\")"
   ]
  },
  {
   "cell_type": "markdown",
   "metadata": {},
   "source": [
    "### All"
   ]
  },
  {
   "cell_type": "code",
   "execution_count": 105,
   "metadata": {},
   "outputs": [],
   "source": [
    "df = pd.concat([data_deliveroo, data_takeaway, data_ubereats], axis=0, ignore_index=True)"
   ]
  },
  {
   "cell_type": "code",
   "execution_count": 106,
   "metadata": {},
   "outputs": [
    {
     "name": "stderr",
     "output_type": "stream",
     "text": [
      "C:\\Users\\zelim\\AppData\\Local\\Temp\\ipykernel_63468\\40523098.py:13: UserWarning: Geometry is in a geographic CRS. Results from 'buffer' are likely incorrect. Use 'GeoSeries.to_crs()' to re-project geometries to a projected CRS before this operation.\n",
      "\n",
      "  gdf['buffer'] = gdf.geometry.buffer(coverage_radius)\n"
     ]
    }
   ],
   "source": [
    "restos_to_density_map(df, \"combined_all_restos_population_density_map\")"
   ]
  }
 ],
 "metadata": {
  "kernelspec": {
   "display_name": ".venv",
   "language": "python",
   "name": "python3"
  },
  "language_info": {
   "codemirror_mode": {
    "name": "ipython",
    "version": 3
   },
   "file_extension": ".py",
   "mimetype": "text/x-python",
   "name": "python",
   "nbconvert_exporter": "python",
   "pygments_lexer": "ipython3",
   "version": "3.11.9"
  }
 },
 "nbformat": 4,
 "nbformat_minor": 2
}
